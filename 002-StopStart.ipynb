{
 "cells": [
  {
   "cell_type": "markdown",
   "id": "bf556978-025c-4a36-9d09-865a88719aef",
   "metadata": {},
   "source": [
    "To Stop MongoDB server in windows, open terminal as administrator and write:"
   ]
  },
  {
   "cell_type": "code",
   "execution_count": null,
   "id": "b0d54e93-e8aa-47d4-9da0-ea3660ad75ea",
   "metadata": {},
   "outputs": [],
   "source": [
    "net stop MongoDB"
   ]
  },
  {
   "cell_type": "markdown",
   "id": "925b4bf0-9324-4a18-a5ab-a2d2ce4459b9",
   "metadata": {},
   "source": [
    "To Start MongoDB server in windows, open terminal as administrator and write:"
   ]
  },
  {
   "cell_type": "code",
   "execution_count": null,
   "id": "8a93f701-e72d-49d8-9244-cddb932036cc",
   "metadata": {},
   "outputs": [],
   "source": [
    "net start MongoDB"
   ]
  }
 ],
 "metadata": {
  "kernelspec": {
   "display_name": "Python 3 (ipykernel)",
   "language": "python",
   "name": "python3"
  },
  "language_info": {
   "codemirror_mode": {
    "name": "ipython",
    "version": 3
   },
   "file_extension": ".py",
   "mimetype": "text/x-python",
   "name": "python",
   "nbconvert_exporter": "python",
   "pygments_lexer": "ipython3",
   "version": "3.11.1"
  }
 },
 "nbformat": 4,
 "nbformat_minor": 5
}
