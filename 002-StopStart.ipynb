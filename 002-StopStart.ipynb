{
 "cells": [
  {
   "cell_type": "markdown",
   "id": "bf556978-025c-4a36-9d09-865a88719aef",
   "metadata": {},
   "source": [
    "To Stop MongoDB server in windows, open terminal as administrator and write:"
   ]
  },
  {
   "cell_type": "code",
   "execution_count": null,
   "id": "b0d54e93-e8aa-47d4-9da0-ea3660ad75ea",
   "metadata": {},
   "outputs": [],
   "source": [
    "net stop MongoDB"
   ]
  },
  {
   "cell_type": "markdown",
   "id": "925b4bf0-9324-4a18-a5ab-a2d2ce4459b9",
   "metadata": {},
   "source": [
    "To Start MongoDB server in windows, open terminal as administrator and write:"
   ]
  },
  {
   "cell_type": "code",
   "execution_count": null,
   "id": "8a93f701-e72d-49d8-9244-cddb932036cc",
   "metadata": {},
   "outputs": [],
   "source": [
    "net start MongoDB"
   ]
  },
  {
   "cell_type": "markdown",
   "id": "152399b9-cd3b-4e78-9ccc-7eff11b61d68",
   "metadata": {},
   "source": [
    "Install Mongo Shell tool and then run this command in terminal to connect to mongoDB server:"
   ]
  },
  {
   "cell_type": "code",
   "execution_count": null,
   "id": "c8152675-3ac7-4f7d-a287-944a3cb3dfd5",
   "metadata": {},
   "outputs": [],
   "source": [
    "mongosh"
   ]
  }
 ],
 "metadata": {
  "kernelspec": {
   "display_name": "Python 3 (ipykernel)",
   "language": "python",
   "name": "python3"
  },
  "language_info": {
   "codemirror_mode": {
    "name": "ipython",
    "version": 3
   },
   "file_extension": ".py",
   "mimetype": "text/x-python",
   "name": "python",
   "nbconvert_exporter": "python",
   "pygments_lexer": "ipython3",
   "version": "3.11.1"
  }
 },
 "nbformat": 4,
 "nbformat_minor": 5
}
