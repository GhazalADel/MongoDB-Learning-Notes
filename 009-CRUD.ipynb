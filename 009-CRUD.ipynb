{
 "cells": [
  {
   "cell_type": "markdown",
   "id": "36c3b151-a9b5-45ce-9d52-7bed572d0b23",
   "metadata": {},
   "source": [
    "<b>Create</b> : insertOne() insertMany()"
   ]
  },
  {
   "cell_type": "markdown",
   "id": "4be87512-b9c2-4cf7-b42a-8c580533628e",
   "metadata": {},
   "source": [
    "<b>Read</b> : find() findOne()"
   ]
  },
  {
   "cell_type": "markdown",
   "id": "d7346392-b238-4545-b450-543d56fbbdc7",
   "metadata": {},
   "source": [
    "<b>Update</b> : updateOne() updateMany() replaceOne()"
   ]
  },
  {
   "cell_type": "markdown",
   "id": "ce2c57e8-8db7-4d54-8e24-ba2d2bc57012",
   "metadata": {},
   "source": [
    "<b>Delete</b> : deleteOne() deleteMany()"
   ]
  },
  {
   "cell_type": "markdown",
   "id": "35f7f192-b3c2-4b74-9c1f-4649ec0f68b2",
   "metadata": {},
   "source": [
    "This is the `store` collection in our database :"
   ]
  },
  {
   "cell_type": "code",
   "execution_count": null,
   "id": "c9f62963-4ed4-4386-8484-d5adb7e66fd0",
   "metadata": {},
   "outputs": [],
   "source": [
    "[\n",
    "  {\n",
    "    _id: ObjectId(\"64c239c73a792aaff0cf5135\"),\n",
    "    name: 'chips',\n",
    "    price: 110\n",
    "  },\n",
    "  {\n",
    "    _id: ObjectId(\"64c376d43a792aaff0cf5136\"),\n",
    "    name: 'burger',\n",
    "    count: 6\n",
    "  }\n",
    "]"
   ]
  },
  {
   "cell_type": "markdown",
   "id": "b5dab4fc-d78e-4ca2-aa8c-b8589091704e",
   "metadata": {},
   "source": [
    "if we write this:"
   ]
  },
  {
   "cell_type": "code",
   "execution_count": null,
   "id": "642a3616-a6cd-493b-bbbe-40fdf7028139",
   "metadata": {},
   "outputs": [],
   "source": [
    "db.products.deleteOne({name:\"burger\"})"
   ]
  },
  {
   "cell_type": "markdown",
   "id": "906a2697-ba82-4390-ad7d-66fe37511b87",
   "metadata": {},
   "source": [
    "it would go ahead, find the <b>first</b> document in our database where the name is burger and delete it."
   ]
  },
  {
   "cell_type": "code",
   "execution_count": null,
   "id": "aca21fd0-1ca3-40c7-9588-e960d1504330",
   "metadata": {},
   "outputs": [],
   "source": [
    "db.products.updateOne({count:6},{marker:\"delete\"})"
   ]
  },
  {
   "cell_type": "markdown",
   "id": "eb98eb56-80fa-4b63-8144-7779b84f8f42",
   "metadata": {},
   "source": [
    "this might add a new field `marker` with the value delete to the first element with count=6 but we get an error and the error is that the update operation document must contain atomic operator. the thing is an incorrect type of data for updating. you don't pass in a document describing your change like this because mongoDB doesn't know how to interpret this, instead what you do pass here is a document with curly braces with a special keyword `$set` and this is something you can remember, whenever you see something with dollar sign in mongoDB, it's a reserved operator or word. `$set` is simply identified by mongoDB when used in the update one operation to describe the changes you want to make. the value of $set then is a document with curly braces . what this does is it tells mongoDB for this document you are finding, set the value and if this value did exist, it would change it to `delete` and if it does not exist, it will add it."
   ]
  },
  {
   "cell_type": "code",
   "execution_count": null,
   "id": "7ca6683e-04c0-491f-b434-e133a44c761e",
   "metadata": {},
   "outputs": [],
   "source": [
    "db.products.updateOne({count:6},{$set:{marker:\"delete\"}})"
   ]
  },
  {
   "cell_type": "markdown",
   "id": "fb5f6247-fce6-4649-811d-a654ca18a2c0",
   "metadata": {},
   "source": [
    "If we want to add `marker` to <b>all</b> documents:"
   ]
  },
  {
   "cell_type": "code",
   "execution_count": null,
   "id": "dd12cdc5-2132-4cb4-8c2a-2e917ba51269",
   "metadata": {},
   "outputs": [],
   "source": [
    "db.products.updateMany({},{$set:{marker:\"toDelete\"}})"
   ]
  },
  {
   "cell_type": "markdown",
   "id": "5ed181c3-4a89-4df1-8372-e99b0cf1cc52",
   "metadata": {},
   "source": [
    "now, all of our documents have marker field with `toDelete` value. now if we write:"
   ]
  },
  {
   "cell_type": "code",
   "execution_count": null,
   "id": "5ec1fd03-072c-4d6c-9572-1c3fe74b3077",
   "metadata": {},
   "outputs": [],
   "source": [
    "db.products.deleteMany({marker:\"toDelete\"})"
   ]
  },
  {
   "cell_type": "markdown",
   "id": "95f5b32e-82cb-48f8-88c7-d3f34c25dbc0",
   "metadata": {},
   "source": [
    "it deleted <b>all</b> documents in `products` collection."
   ]
  },
  {
   "cell_type": "markdown",
   "id": "dc831e65-a5f6-4f9a-b3dd-5469e191d3d0",
   "metadata": {},
   "source": [
    "`insertMany()` allows you insert many elements and this is actually done by passing an array:"
   ]
  },
  {
   "cell_type": "code",
   "execution_count": null,
   "id": "f0c84cbe-ccdc-4018-9835-27fd276600dd",
   "metadata": {},
   "outputs": [],
   "source": [
    " db.products.insertMany([{name:'cake',price:90,count:4},{name:'bread',count:8}])"
   ]
  },
  {
   "cell_type": "markdown",
   "id": "7d9b63ad-4d4d-40cb-ace9-f209d71e6e39",
   "metadata": {},
   "source": [
    "result is:"
   ]
  },
  {
   "cell_type": "code",
   "execution_count": null,
   "id": "eee8f7ca-04e1-4749-b336-f67cb3388509",
   "metadata": {},
   "outputs": [],
   "source": [
    "{\n",
    "  acknowledged: true,\n",
    "  insertedIds: {\n",
    "    '0': ObjectId(\"64c382493a792aaff0cf5137\"),\n",
    "    '1': ObjectId(\"64c382493a792aaff0cf5138\")\n",
    "  }\n",
    "}"
   ]
  },
  {
   "cell_type": "markdown",
   "id": "958d5b55-756a-4991-9dad-e73fedb4d2a7",
   "metadata": {},
   "source": [
    "first id is .........7 and second is ........8 because mongoDB keeps the order."
   ]
  },
  {
   "cell_type": "markdown",
   "id": "0563cd26-7832-42cf-8891-534f12bb425a",
   "metadata": {},
   "source": [
    "how to filter find :"
   ]
  },
  {
   "cell_type": "code",
   "execution_count": null,
   "id": "0a5703f6-d7c0-48a2-88b7-b999bf7c71bb",
   "metadata": {},
   "outputs": [],
   "source": [
    "db.products.find({count:8})"
   ]
  },
  {
   "cell_type": "markdown",
   "id": "cba74b79-aab0-4aa1-b5c5-e97c614adcfd",
   "metadata": {},
   "source": [
    "if we want to have a `greate than` check :"
   ]
  },
  {
   "cell_type": "code",
   "execution_count": null,
   "id": "668f4522-4f49-4909-9023-c817b423eb9f",
   "metadata": {},
   "outputs": [],
   "source": [
    "db.products.find({count:{$gt: 5}})"
   ]
  },
  {
   "cell_type": "markdown",
   "id": "df9250f5-d010-446f-b26a-2c51bebdddf7",
   "metadata": {},
   "source": [
    "if we want first element with that condition:"
   ]
  },
  {
   "cell_type": "code",
   "execution_count": null,
   "id": "82ba81b3-8d82-45a4-9878-77fe6a18b56f",
   "metadata": {},
   "outputs": [],
   "source": [
    "db.products.findOne({count:{$gt: 5}})"
   ]
  },
  {
   "cell_type": "markdown",
   "id": "63b1cfdb-46c9-4cbd-9094-4d7bbc5cbb79",
   "metadata": {},
   "source": [
    "updateMany() used to update all matching elements and update() would also update all matching elements.The difference can be seen if we remove `$set`. with updateOne and updateMany this gave us an error. but with `update` this actually works."
   ]
  }
 ],
 "metadata": {
  "kernelspec": {
   "display_name": "Python 3 (ipykernel)",
   "language": "python",
   "name": "python3"
  },
  "language_info": {
   "codemirror_mode": {
    "name": "ipython",
    "version": 3
   },
   "file_extension": ".py",
   "mimetype": "text/x-python",
   "name": "python",
   "nbconvert_exporter": "python",
   "pygments_lexer": "ipython3",
   "version": "3.11.1"
  }
 },
 "nbformat": 4,
 "nbformat_minor": 5
}
