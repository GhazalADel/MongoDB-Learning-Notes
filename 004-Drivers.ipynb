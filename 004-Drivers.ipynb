{
 "cells": [
  {
   "cell_type": "markdown",
   "id": "921e42d0-766c-4221-8018-e25965c441a1",
   "metadata": {},
   "source": [
    "in mongoDB.com -> documentaion -> products -> mongoDB drivers . mongoDB drivers are packages you installed for the different programming languages and these drivers are your bridges between your programming language and mongoDB server. in these drivers, you use the same commands as we use in the shell, just adjusted to the syntax of the language you are working with."
   ]
  },
  {
   "cell_type": "markdown",
   "id": "26cade71-6072-4d17-bacf-83efb5feac68",
   "metadata": {},
   "source": [
    "the syntax of the languages obviously different but the general way of working with your data does not change at all and you work in exactly the same way as in the shell ."
   ]
  }
 ],
 "metadata": {
  "kernelspec": {
   "display_name": "Python 3 (ipykernel)",
   "language": "python",
   "name": "python3"
  },
  "language_info": {
   "codemirror_mode": {
    "name": "ipython",
    "version": 3
   },
   "file_extension": ".py",
   "mimetype": "text/x-python",
   "name": "python",
   "nbconvert_exporter": "python",
   "pygments_lexer": "ipython3",
   "version": "3.11.1"
  }
 },
 "nbformat": 4,
 "nbformat_minor": 5
}
