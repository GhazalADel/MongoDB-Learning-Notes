{
 "cells": [
  {
   "cell_type": "markdown",
   "id": "ef285d19-e387-42b7-beb2-863b9402a148",
   "metadata": {},
   "source": [
    "mongoDB is a database server that allows you to run different databases on it. we have `collections` here instead of talbes in relational databases.\n",
    "Inside of a collection, you have `documents` like this:"
   ]
  },
  {
   "cell_type": "code",
   "execution_count": null,
   "id": "8f5e0fb0-fb78-4083-ac75-83ec91e52215",
   "metadata": {},
   "outputs": [],
   "source": [
    "{Name: 'Ghazal' }"
   ]
  },
  {
   "cell_type": "markdown",
   "id": "34163bc8-d04a-48c5-b59e-cabe14ffb2c0",
   "metadata": {},
   "source": [
    "If we have a users collection , these collections are permissive :"
   ]
  },
  {
   "cell_type": "code",
   "execution_count": null,
   "id": "971209a3-f224-4321-b07b-413f8b7bd3c9",
   "metadata": {},
   "outputs": [],
   "source": [
    "{Name: 'Ghazal' } "
   ]
  },
  {
   "cell_type": "code",
   "execution_count": null,
   "id": "f10bc389-3de4-43a0-afe1-35f5c0687c30",
   "metadata": {},
   "outputs": [],
   "source": [
    "{Name: 'Ghazal' , Age: 20 } "
   ]
  },
  {
   "cell_type": "markdown",
   "id": "f93b245b-d234-4b35-981c-d2bc29b6c1b5",
   "metadata": {},
   "source": [
    "we can create complex relations between data and store them in one the same document which makes working with it and fetching it super efficient. where in sql, we have eto write complex joins to find data ."
   ]
  },
  {
   "cell_type": "markdown",
   "id": "85af06a3-a4af-4b8a-9710-2bca0dc48de2",
   "metadata": {},
   "source": [
    "mongoDB converts your json data to a binary version of it which can basically be stored and can queried more efficiently."
   ]
  },
  {
   "cell_type": "markdown",
   "id": "b15c96f7-529f-40fe-82c1-72dc4efc37f9",
   "metadata": {},
   "source": [
    "JSON(BSON) data format sample :"
   ]
  },
  {
   "cell_type": "code",
   "execution_count": null,
   "id": "d8ee5079-10dd-4b5a-a1d9-44e253da6fc9",
   "metadata": {},
   "outputs": [],
   "source": [
    "{\n",
    "    \"firstname\":\"Ghazal\",\n",
    "    \"address\":{\n",
    "        \"city\":\"Tehran\"\n",
    "    },\n",
    "    \"favorite_foods\":[\n",
    "        {\"name\":\"pizza\"},\n",
    "        {\"name\":\"burger\"}\n",
    "    ]\n",
    "}"
   ]
  },
  {
   "cell_type": "markdown",
   "id": "79025f77-1c31-4470-bfe0-2d6c342cf967",
   "metadata": {},
   "source": [
    "In mongoDB we have no/few relations!"
   ]
  },
  {
   "cell_type": "markdown",
   "id": "32eb0024-149d-47ef-a294-43badefba5ce",
   "metadata": {},
   "source": [
    "Compass : graphical user interface"
   ]
  }
 ],
 "metadata": {
  "kernelspec": {
   "display_name": "Python 3 (ipykernel)",
   "language": "python",
   "name": "python3"
  },
  "language_info": {
   "codemirror_mode": {
    "name": "ipython",
    "version": 3
   },
   "file_extension": ".py",
   "mimetype": "text/x-python",
   "name": "python",
   "nbconvert_exporter": "python",
   "pygments_lexer": "ipython3",
   "version": "3.11.1"
  }
 },
 "nbformat": 4,
 "nbformat_minor": 5
}
