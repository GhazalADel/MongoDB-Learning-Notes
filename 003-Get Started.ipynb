{
 "cells": [
  {
   "cell_type": "markdown",
   "id": "5b5015d5-0506-43b2-b11a-9e667fc49d1d",
   "metadata": {},
   "source": [
    "to show all databases, enter following command(semicolon is optional):"
   ]
  },
  {
   "cell_type": "code",
   "execution_count": null,
   "id": "2ca2b942-43a1-4e19-b1c9-5f5c0a3dc688",
   "metadata": {},
   "outputs": [],
   "source": [
    "show dbs;"
   ]
  },
  {
   "cell_type": "markdown",
   "id": "141633b6-fe2f-4292-b892-5f7b8d660821",
   "metadata": {},
   "source": [
    "`admin` and `local` and `config` databases are default databases"
   ]
  },
  {
   "cell_type": "markdown",
   "id": "b77f75ef-d2e4-45ad-8c1a-50ab0573422f",
   "metadata": {},
   "source": [
    "to connect to a database, enter following command . even if this doesn't exist yet, it will be created on the fly once you start inserting data."
   ]
  },
  {
   "cell_type": "code",
   "execution_count": null,
   "id": "210806ff-1c08-43e6-b29b-88cb15de0931",
   "metadata": {},
   "outputs": [],
   "source": [
    "use store"
   ]
  },
  {
   "cell_type": "markdown",
   "id": "ebc55dd3-ab54-4dda-a065-33720cdb60f6",
   "metadata": {},
   "source": [
    "you can create a new collection also on the fly by typing `db` which refers to the database you are currently connected to and then the name of the collection where you want to insert data and this also doesn't need to exist yet. and then you can insert one new product with insertOne command and you pass a json object to it."
   ]
  },
  {
   "cell_type": "code",
   "execution_count": null,
   "id": "6e29e99f-0f51-4eab-b2b3-2befce2c0632",
   "metadata": {},
   "outputs": [],
   "source": [
    "db.products.insertOne({name:\"Cake\",price:1000})"
   ]
  },
  {
   "cell_type": "markdown",
   "id": "da762598-eeb7-40a1-b76b-20b07f8ea766",
   "metadata": {},
   "source": [
    "Notice : you can omit the quotation marks around the key name in the shell not around the value and it will be stored with the quotation marks behind the scenes."
   ]
  },
  {
   "cell_type": "markdown",
   "id": "a86b703a-7af7-4c3e-9b77-2c359784da65",
   "metadata": {},
   "source": [
    "after running this command, you should get this command which basically confirms that the data was inserted into the database and mongoDB automatically generated a unique ID for it which it returns you here."
   ]
  },
  {
   "cell_type": "code",
   "execution_count": null,
   "id": "7398d00b-4371-4187-a8ca-e25f4a6e9780",
   "metadata": {},
   "outputs": [],
   "source": [
    "{\n",
    "  acknowledged: true,\n",
    "  insertedId: ObjectId(\"64c239c73a792aaff0cf5135\")\n",
    "}"
   ]
  },
  {
   "cell_type": "markdown",
   "id": "0cd4d74c-a32e-4e3c-b2ac-60796ff419af",
   "metadata": {},
   "source": [
    "to see all data in collection:"
   ]
  },
  {
   "cell_type": "code",
   "execution_count": null,
   "id": "33f00148-b1ce-4615-915f-076ec3da39d8",
   "metadata": {},
   "outputs": [],
   "source": [
    "db.products.find()"
   ]
  },
  {
   "cell_type": "markdown",
   "id": "906ee7e7-f93e-433d-8deb-0af24578968d",
   "metadata": {},
   "source": [
    "prettier way:"
   ]
  },
  {
   "cell_type": "code",
   "execution_count": null,
   "id": "c485c8dd-1dd0-4b46-a20f-c6a7911f9a3a",
   "metadata": {},
   "outputs": [],
   "source": [
    "db.products.find().pretty()"
   ]
  },
  {
   "cell_type": "markdown",
   "id": "5fe76843-7fe4-4f33-aaea-9e55bfe85034",
   "metadata": {},
   "source": [
    "you can add following json to productions collection because our documents don't need to have exactly the same structure."
   ]
  },
  {
   "cell_type": "code",
   "execution_count": null,
   "id": "14cda033-6e84-4a6b-8c79-eeff26894900",
   "metadata": {},
   "outputs": [],
   "source": [
    "{\n",
    "    name:\"chips\",\n",
    "    price:100.5,\n",
    "    description:\"delicious\"\n",
    "}"
   ]
  }
 ],
 "metadata": {
  "kernelspec": {
   "display_name": "Python 3 (ipykernel)",
   "language": "python",
   "name": "python3"
  },
  "language_info": {
   "codemirror_mode": {
    "name": "ipython",
    "version": 3
   },
   "file_extension": ".py",
   "mimetype": "text/x-python",
   "name": "python",
   "nbconvert_exporter": "python",
   "pygments_lexer": "ipython3",
   "version": "3.11.1"
  }
 },
 "nbformat": 4,
 "nbformat_minor": 5
}
