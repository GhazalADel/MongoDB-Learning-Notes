{
 "cells": [
  {
   "cell_type": "markdown",
   "id": "0416b761-fcff-4d73-b066-792c3fb4e925",
   "metadata": {},
   "source": [
    "In mongoDB server, you have one or more databases and each database can hold one or more collections.a collection would be a table in a sql database.You have multiple documents per collection and the documents are really the data pieces you are storing in your database."
   ]
  },
  {
   "cell_type": "markdown",
   "id": "e01ce1ed-15ef-49c2-9ce0-dfc86eddb8d2",
   "metadata": {},
   "source": [
    "we know that we can switch to a database with the use command and you can evern switch to databases which don't exist yet . for example:"
   ]
  },
  {
   "cell_type": "code",
   "execution_count": null,
   "id": "5ba26434-05f2-45f7-983a-c1369476d008",
   "metadata": {},
   "outputs": [],
   "source": [
    "use employees"
   ]
  },
  {
   "cell_type": "markdown",
   "id": "84b0058e-dbcb-43be-82e3-51fcb49f40ab",
   "metadata": {},
   "source": [
    "but if we type `show dbs` command, we still don't see that even though we did switch to it. the reason for this is that this database does not get created before we start entering data in there but if we do start entering data, it will be created automatically and implicitly."
   ]
  },
  {
   "cell_type": "markdown",
   "id": "53a1c02f-b215-4aec-bee2-7faa56d6e83f",
   "metadata": {},
   "source": [
    "a document is always defined with curly braces."
   ]
  },
  {
   "cell_type": "markdown",
   "id": "a2ebb888-079d-494c-ba14-a62b1352d11b",
   "metadata": {},
   "source": [
    "every document you enter gets a unique ID and its type is `ObjectId`.all the data we entered has `_id` which was added automatically be mongoDB ."
   ]
  },
  {
   "cell_type": "markdown",
   "id": "732c4258-e403-4e09-a19e-5e98d4cbcb7e",
   "metadata": {},
   "source": [
    "`ObjectId` is a special type of data provided by mongoDB which is a unique id that also allows you to sort your documents because it will also have some time stamp data in there."
   ]
  }
 ],
 "metadata": {
  "kernelspec": {
   "display_name": "Python 3 (ipykernel)",
   "language": "python",
   "name": "python3"
  },
  "language_info": {
   "codemirror_mode": {
    "name": "ipython",
    "version": 3
   },
   "file_extension": ".py",
   "mimetype": "text/x-python",
   "name": "python",
   "nbconvert_exporter": "python",
   "pygments_lexer": "ipython3",
   "version": "3.11.1"
  }
 },
 "nbformat": 4,
 "nbformat_minor": 5
}
