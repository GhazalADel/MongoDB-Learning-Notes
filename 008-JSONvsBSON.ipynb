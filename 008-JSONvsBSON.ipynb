{
 "cells": [
  {
   "cell_type": "markdown",
   "id": "cdb64cf2-d43a-436c-8764-94adef9b97c1",
   "metadata": {},
   "source": [
    "mongoDB does not use `json` but `bson` which stands for `binary json` for storing data in database. all you will write and see will be json code but behind the scenes, mongoDB actually uses bson data. this conversion is done by the drivers and this is simply done because for one, it is more efficient to store than json data, so it's faster and more efficient and additioanally it supports additional types because for example that objectId thing we saw in the lecture is not valid normal json and there are some other types too."
   ]
  },
  {
   "cell_type": "markdown",
   "id": "2ba8476f-43aa-4695-b146-b76d785ffd06",
   "metadata": {},
   "source": [
    "you can actually omit the quotation marks for key in json as long as there is no whitespace in the name."
   ]
  },
  {
   "cell_type": "markdown",
   "id": "85e30afc-9ae4-479a-b620-654651fc645a",
   "metadata": {},
   "source": [
    "In mongoDB, two documents in the same collection don't have to have the same schema."
   ]
  },
  {
   "cell_type": "markdown",
   "id": "0e718aec-ec68-49a0-83eb-6f3225d488c9",
   "metadata": {},
   "source": [
    "you don't have to use the auto-generated id, you just have to ensure that you have a unique id but if you can ensure this, you can also assign id on your own. this should be `_id` and then you can use any id you want, a number or another string like this:"
   ]
  },
  {
   "cell_type": "code",
   "execution_count": null,
   "id": "ea12f656-b5c0-4c1f-b8e3-e108737e8f0c",
   "metadata": {},
   "outputs": [],
   "source": [
    "db.addresses.insertOne({city:\"Tehran\",street:\"street\",_id:\"street_in_tehran\"})"
   ]
  },
  {
   "cell_type": "markdown",
   "id": "fe09a83e-eca0-42d5-993c-fc2c636e6591",
   "metadata": {},
   "source": [
    "If i try to enter the same entry again with the same id,we will get an error."
   ]
  }
 ],
 "metadata": {
  "kernelspec": {
   "display_name": "Python 3 (ipykernel)",
   "language": "python",
   "name": "python3"
  },
  "language_info": {
   "codemirror_mode": {
    "name": "ipython",
    "version": 3
   },
   "file_extension": ".py",
   "mimetype": "text/x-python",
   "name": "python",
   "nbconvert_exporter": "python",
   "pygments_lexer": "ipython3",
   "version": "3.11.1"
  }
 },
 "nbformat": 4,
 "nbformat_minor": 5
}
